{
  "nbformat": 4,
  "nbformat_minor": 0,
  "metadata": {
    "colab": {
      "provenance": []
    },
    "kernelspec": {
      "name": "python3",
      "display_name": "Python 3"
    },
    "language_info": {
      "name": "python"
    }
  },
  "cells": [
    {
      "cell_type": "markdown",
      "source": [
        "#Part 1"
      ],
      "metadata": {
        "id": "B1J6d-zXQJwN"
      }
    },
    {
      "cell_type": "markdown",
      "source": [
        "##Load Data"
      ],
      "metadata": {
        "id": "OtvPGMFQ32t-"
      }
    },
    {
      "cell_type": "code",
      "source": [
        "from google.colab import drive\n",
        "import imageio\n",
        "import os\n",
        "import matplotlib.pyplot as plt\n",
        "import numpy as np\n",
        "from tqdm import tqdm\n",
        "from sklearn.decomposition import PCA"
      ],
      "metadata": {
        "id": "NdXfnv7Ho_M-"
      },
      "execution_count": 13,
      "outputs": []
    },
    {
      "cell_type": "code",
      "execution_count": 14,
      "metadata": {
        "id": "UqLEnnwRbofw",
        "colab": {
          "base_uri": "https://localhost:8080/"
        },
        "outputId": "a4999619-9def-4926-f6e2-bddcc0f3066c"
      },
      "outputs": [
        {
          "output_type": "stream",
          "name": "stdout",
          "text": [
            "Drive already mounted at /content/drive; to attempt to forcibly remount, call drive.mount(\"/content/drive\", force_remount=True).\n"
          ]
        }
      ],
      "source": [
        "drive.mount('/content/drive')"
      ]
    },
    {
      "cell_type": "code",
      "source": [
        "def loadImages(dirName):\n",
        "    # This function loads images from any directory\n",
        "    # :param str dirName: is address of the directory (string)\n",
        "\n",
        "    data = []\n",
        "    label = []\n",
        "    for root, dirs, files in os.walk(dirName):\n",
        "        for file in files:\n",
        "            face = imageio.v2.imread(os.path.join(root, file)) # Load image from a path\n",
        "            face = face.reshape(256 * 256, ).tolist()          # Flatten image . Note: size of any image is 256,256\n",
        "            data.append(face)\n",
        "            label.append(file.split('.')[1])                   # Label of an image is in its fileName\n",
        "    return np.asarray(data) , label"
      ],
      "metadata": {
        "id": "bkm2PAehpZ0_"
      },
      "execution_count": 15,
      "outputs": []
    },
    {
      "cell_type": "code",
      "source": [
        "mypath = '/content/drive/MyDrive/HW5_ML/Q5_Datasets/part1/EmotionDetectionDateset'\n",
        "train_data , train_label = loadImages(mypath + '/train')\n",
        "print(\"number of train data images is\" , train_data.shape[0] , \"and number of features for each image is\", train_data.shape[1])\n",
        "test_data , test_label = loadImages(mypath + '/test')\n",
        "print(\"number of test data images is\" , test_data.shape[0] , \"and number of features for each image is\", train_data.shape[1])"
      ],
      "metadata": {
        "colab": {
          "base_uri": "https://localhost:8080/"
        },
        "id": "73SfqYo2qpRe",
        "outputId": "87e43e93-9dd2-4cc7-82dd-af6fef51fe6a"
      },
      "execution_count": 16,
      "outputs": [
        {
          "output_type": "stream",
          "name": "stdout",
          "text": [
            "number of train data images is 154 and number of features for each image is 65536\n",
            "number of test data images is 59 and number of features for each image is 65536\n"
          ]
        }
      ]
    },
    {
      "cell_type": "code",
      "source": [
        "train_data = train_data/255.0\n",
        "test_data = test_data/255.0"
      ],
      "metadata": {
        "id": "WCTcU7j7sodF"
      },
      "execution_count": 17,
      "outputs": []
    },
    {
      "cell_type": "markdown",
      "source": [
        "##A"
      ],
      "metadata": {
        "id": "IrOd0m91AikQ"
      }
    },
    {
      "cell_type": "code",
      "source": [
        "pca = PCA(n_components = min(train_data.shape[0],train_data.shape[1]))\n",
        "train_pca = pca.fit_transform(train_data)"
      ],
      "metadata": {
        "id": "R4KshjehthDm"
      },
      "execution_count": 18,
      "outputs": []
    },
    {
      "cell_type": "code",
      "source": [
        "plt.plot(pca.explained_variance_ratio_)\n",
        "plt.ylabel('Explained Variance Ratio')\n",
        "plt.xlabel('#Component')\n",
        "plt.show()"
      ],
      "metadata": {
        "colab": {
          "base_uri": "https://localhost:8080/",
          "height": 454
        },
        "id": "FAQOGrsY_MX6",
        "outputId": "cdfc99d2-5b31-4fb0-a87b-a89f2010b889"
      },
      "execution_count": 19,
      "outputs": [
        {
          "output_type": "display_data",
          "data": {
            "text/plain": [
              "<Figure size 640x480 with 1 Axes>"
            ],
            "image/png": "[encoded data removed]"
          },
          "metadata": {}
        }
      ]
    },
    {
      "cell_type": "markdown",
      "source": [
        "##B"
      ],
      "metadata": {
        "id": "n21hPhZ5Al83"
      }
    },
    {
      "cell_type": "code",
      "source": [
        "first4 = pca.explained_variance_ratio_[0:4]\n",
        "last4 = pca.explained_variance_ratio_[-4:]\n",
        "print(\"First 4: \")\n",
        "print(first4)\n",
        "print(\"Last 4: \")\n",
        "print(last4)"
      ],
      "metadata": {
        "colab": {
          "base_uri": "https://localhost:8080/"
        },
        "id": "JvAx-xJnDO1p",
        "outputId": "09189afa-84ec-4a1c-fee9-134bbeee0c06"
      },
      "execution_count": 26,
      "outputs": [
        {
          "output_type": "stream",
          "name": "stdout",
          "text": [
            "First 4: \n",
            "[0.19071242 0.17131572 0.12607009 0.06013503]\n",
            "Last 4: \n",
            "[2.51170117e-04 2.46942408e-04 2.04503269e-04 1.72894737e-30]\n"
          ]
        }
      ]
    },
    {
      "cell_type": "code",
      "source": [
        "comps = pca.components_.T.reshape(11, 14, train_data.shape[1])\n",
        "plt.figure(figsize=(10, 15))\n",
        "\n",
        "for i in range(4):\n",
        "    plt.subplot(1, 4, i+1)\n",
        "    plt.imshow(comps[:,:,i], 'gray')"
      ],
      "metadata": {
        "colab": {
          "base_uri": "https://localhost:8080/",
          "height": 193
        },
        "id": "XysLcy-hGNsQ",
        "outputId": "08edeb73-b7a7-4bfe-ce73-76c2dcb5bcc8"
      },
      "execution_count": 30,
      "outputs": [
        {
          "output_type": "display_data",
          "data": {
            "text/plain": [
              "<Figure size 1000x1500 with 4 Axes>"
            ],
            "image/png": "[encoded data removed]"
          },
          "metadata": {}
        }
      ]
    },
    {
      "cell_type": "code",
      "source": [
        "comps = pca.components_.T.reshape(11, 14, train_data.shape[1])\n",
        "plt.figure(figsize=(10, 15))\n",
        "\n",
        "for i in range(4):\n",
        "    plt.subplot(1, 4, i+1)\n",
        "    plt.imshow(comps[:,:,-(i+1)], 'gray')"
      ],
      "metadata": {
        "colab": {
          "base_uri": "https://localhost:8080/",
          "height": 193
        },
        "id": "POvNHFjAHSoR",
        "outputId": "e513de9e-7b53-4f0a-8b51-66e2587f214f"
      },
      "execution_count": 29,
      "outputs": [
        {
          "output_type": "display_data",
          "data": {
            "text/plain": [
              "<Figure size 1000x1500 with 4 Axes>"
            ],
            "image/png": "[encoded data removed]"
          },
          "metadata": {}
        }
      ]
    },
    {
      "cell_type": "markdown",
      "source": [
        "#Part 2"
      ],
      "metadata": {
        "id": "A4oAwniXQL_G"
      }
    },
    {
      "cell_type": "code",
      "source": [
        "import pandas as pd\n",
        "mypath = '/content/drive/MyDrive/HW5_ML/Q5_Datasets/part2/Fashion-MNIST/'\n",
        "X_train = pd.read_csv(mypath+'trainData.csv')\n",
        "y_train = pd.read_csv(mypath+'trainLabels.csv').to_numpy().reshape((X_train.shape[0],))\n",
        "X_test = pd.read_csv(mypath+'testData.csv')\n",
        "y_test = pd.read_csv(mypath+'testLabels.csv').to_numpy().reshape((X_test.shape[0],))"
      ],
      "metadata": {
        "id": "vhqT33dlTH2G"
      },
      "execution_count": 41,
      "outputs": []
    },
    {
      "cell_type": "code",
      "source": [
        "set(y_train)"
      ],
      "metadata": {
        "colab": {
          "base_uri": "https://localhost:8080/"
        },
        "id": "BdsPFkybUHGF",
        "outputId": "aca4bb09-8d74-4b57-d59a-daac90594357"
      },
      "execution_count": 44,
      "outputs": [
        {
          "output_type": "execute_result",
          "data": {
            "text/plain": [
              "{0, 1, 2, 3, 4, 5, 6, 7, 8, 9}"
            ]
          },
          "metadata": {},
          "execution_count": 44
        }
      ]
    },
    {
      "cell_type": "markdown",
      "source": [
        "##A"
      ],
      "metadata": {
        "id": "9Q2NRgjtQNjF"
      }
    },
    {
      "cell_type": "code",
      "source": [
        "from sklearn.discriminant_analysis import LinearDiscriminantAnalysis as LDA\n",
        "lda = LDA().fit(X_train, y_train)"
      ],
      "metadata": {
        "id": "jyIEGz97QP4-"
      },
      "execution_count": 42,
      "outputs": []
    },
    {
      "cell_type": "code",
      "source": [
        "lda.explained_variance_ratio_"
      ],
      "metadata": {
        "colab": {
          "base_uri": "https://localhost:8080/"
        },
        "id": "aRuBxZGrSJ03",
        "outputId": "4220142e-d97a-4592-ef68-63efb2375353"
      },
      "execution_count": 43,
      "outputs": [
        {
          "output_type": "execute_result",
          "data": {
            "text/plain": [
              "array([0.44564943, 0.21979057, 0.09304488, 0.07341581, 0.0609483 ,\n",
              "       0.04322989, 0.03798863, 0.01602115, 0.00991134])"
            ]
          },
          "metadata": {},
          "execution_count": 43
        }
      ]
    },
    {
      "cell_type": "markdown",
      "source": [
        "##B"
      ],
      "metadata": {
        "id": "C8Mf17LGXwnt"
      }
    },
    {
      "cell_type": "code",
      "source": [
        "def separability_measure(data1, data2):\n",
        "    centroid1 = np.mean(data1, axis=0)\n",
        "    centroid2 = np.mean(data2, axis=0)\n",
        "    distance = np.linalg.norm(centroid1 - centroid2)\n",
        "    return distance"
      ],
      "metadata": {
        "id": "Ki8IVZf3Xx8l"
      },
      "execution_count": 45,
      "outputs": []
    },
    {
      "cell_type": "code",
      "source": [
        "transformed_X = lda.transform(X_train)"
      ],
      "metadata": {
        "id": "1wPUmm0hYD08"
      },
      "execution_count": 46,
      "outputs": []
    },
    {
      "cell_type": "code",
      "source": [
        "def compute_scatter_matrices(X, y):\n",
        "    epsilon=1e-8\n",
        "    class_labels = np.unique(y)\n",
        "    num_classes = len(class_labels)\n",
        "    num_features = X.shape[1]\n",
        "    class_means = []\n",
        "    for label in class_labels:\n",
        "        class_means.append(np.mean(X[y == label], axis=0))\n",
        "    Sw = np.zeros((num_features, num_features))\n",
        "    for label, mean_vec in zip(class_labels, class_means):\n",
        "        class_scatter = np.zeros((num_features, num_features))\n",
        "        for row in X[y == label]:\n",
        "            row, mean_vec = row.reshape(num_features, 1), mean_vec.reshape(num_features, 1)\n",
        "            class_scatter += (row - mean_vec).dot((row - mean_vec).T)\n",
        "        Sw += class_scatter\n",
        "    Sw += epsilon * np.eye(num_features)\n",
        "    overall_mean = np.mean(X, axis=0)\n",
        "    Sb = np.zeros((num_features, num_features))\n",
        "    for label, mean_vec in zip(class_labels, class_means):\n",
        "        n = X[y == label, :].shape[0]\n",
        "        mean_vec = mean_vec.reshape(num_features, 1)\n",
        "        overall_mean = overall_mean.reshape(num_features, 1)\n",
        "        Sb += n * (mean_vec - overall_mean).dot((mean_vec - overall_mean).T)\n",
        "\n",
        "    return Sw, Sb\n",
        "\n",
        "def class_separability(X, y):\n",
        "    Sw, Sb = compute_scatter_matrices(X, y)\n",
        "    try:\n",
        "        Sw_inv = np.linalg.inv(Sw)\n",
        "    except np.linalg.LinAlgError:\n",
        "        Sw_inv = np.linalg.pinv(Sw)\n",
        "    product = np.dot(Sw_inv, Sb)\n",
        "    trace = np.trace(product)\n",
        "\n",
        "    return trace"
      ],
      "metadata": {
        "id": "lZGTP0qfaSc9"
      },
      "execution_count": 71,
      "outputs": []
    },
    {
      "cell_type": "code",
      "source": [
        "sep = list()\n",
        "for i in range(10):\n",
        "  sep.append(class_separability(transformed_X[:,:(i+1)], y_train))"
      ],
      "metadata": {
        "id": "A6lizA1qYb23"
      },
      "execution_count": 69,
      "outputs": []
    },
    {
      "cell_type": "code",
      "source": [
        "import matplotlib.pyplot as plt\n",
        "plt.plot(list(range(len(sep))), sep)\n",
        "plt.ylabel('Separability Measure')\n",
        "plt.xlabel('#Features')"
      ],
      "metadata": {
        "colab": {
          "base_uri": "https://localhost:8080/",
          "height": 466
        },
        "id": "S4WTppUbbP8l",
        "outputId": "7484a220-a2b8-4164-c898-a01682338f83"
      },
      "execution_count": 72,
      "outputs": [
        {
          "output_type": "execute_result",
          "data": {
            "text/plain": [
              "Text(0.5, 0, '#Features')"
            ]
          },
          "metadata": {},
          "execution_count": 72
        },
        {
          "output_type": "display_data",
          "data": {
            "text/plain": [
              "<Figure size 640x480 with 1 Axes>"
            ],
            "image/png": "[encoded data removed]"
          },
          "metadata": {}
        }
      ]
    }
  ]
}