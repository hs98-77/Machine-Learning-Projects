{
  "nbformat": 4,
  "nbformat_minor": 0,
  "metadata": {
    "colab": {
      "provenance": []
    },
    "kernelspec": {
      "name": "python3",
      "display_name": "Python 3"
    },
    "language_info": {
      "name": "python"
    }
  },
  "cells": [
    {
      "cell_type": "code",
      "execution_count": null,
      "metadata": {
        "colab": {
          "base_uri": "https://localhost:8080/"
        },
        "id": "39KgOgPS-WQR",
        "outputId": "f0f42279-b414-4d97-cd8b-5748ce743d44"
      },
      "outputs": [
        {
          "output_type": "stream",
          "name": "stderr",
          "text": [
            "/usr/local/lib/python3.10/dist-packages/urllib3/connectionpool.py:1045: InsecureRequestWarning: Unverified HTTPS request is being made to host 'drive.google.com'. Adding certificate verification is strongly advised. See: https://urllib3.readthedocs.io/en/1.26.x/advanced-usage.html#ssl-warnings\n",
            "  warnings.warn(\n",
            "/usr/local/lib/python3.10/dist-packages/urllib3/connectionpool.py:1045: InsecureRequestWarning: Unverified HTTPS request is being made to host 'drive.google.com'. Adding certificate verification is strongly advised. See: https://urllib3.readthedocs.io/en/1.26.x/advanced-usage.html#ssl-warnings\n",
            "  warnings.warn(\n",
            "\n",
            " \tCannot retrieve the public link of the file. You may need to change\n",
            "\tthe permission to 'Anyone with the link', or have had many accesses. \n",
            "\n",
            "You may still be able to access the file from the browser:\n",
            "\n",
            "\t https://drive.google.com/uc?id=1_WM9MdokkOR9TsAqy9qHkys24pqeTwMY \n",
            "\n"
          ]
        },
        {
          "output_type": "stream",
          "name": "stdout",
          "text": [
            "Access denied with the following error:\n",
            "replace content/folder/project/fake/810100457_fake_stable_mountain_2.jpg? [y]es, [n]o, [A]ll, [N]one, [r]ename: mv: cannot move '/content/content/folder/project/fake' to '/content/fake': Directory not empty\n",
            "mv: cannot move '/content/content/folder/project/real' to '/content/real': Directory not empty\n",
            "mv: cannot stat '/content/content/folder/project/features.csv': No such file or directory\n",
            "mv: cannot stat '/content/content/folder/project/labels.csv': No such file or directory\n"
          ]
        }
      ],
      "source": [
        "#!pip3 install --upgrade gdown\n",
        "import gdown\n",
        "url = \"https://drive.google.com/uc?id=1_WM9MdokkOR9TsAqy9qHkys24pqeTwMY\"\n",
        "gdown.download(url, quiet=True, use_cookies=False, verify=False)\n",
        "\n",
        "! unzip -q project.zip\n",
        "\n",
        "! mv /content/content/folder/project/fake /content/\n",
        "! mv /content/content/folder/project/real /content/\n",
        "! mv /content/content/folder/project/features.csv features.csv\n",
        "! mv /content/content/folder/project/labels.csv labels.csv"
      ]
    },
    {
      "cell_type": "code",
      "source": [
        "from os import walk\n",
        "import imageio as iio\n",
        "from tqdm import tqdm\n",
        "import pandas as pd\n",
        "import numpy as np\n",
        "from scipy import stats\n",
        "import cv2\n",
        "from sklearn.svm import SVC\n",
        "from sklearn.naive_bayes import GaussianNB\n",
        "from sklearn.metrics import classification_report\n",
        "from sklearn.linear_model import LogisticRegression\n",
        "from sklearn.neural_network import MLPClassifier\n",
        "mypath = '/content/content/folder/project/'"
      ],
      "metadata": {
        "id": "XlTl87226tRD"
      },
      "execution_count": null,
      "outputs": []
    },
    {
      "cell_type": "code",
      "source": [
        "FakeImages = next(walk(mypath + 'fake'), (None, None, []))[2]\n",
        "FakeImages.remove('desktop.ini')"
      ],
      "metadata": {
        "id": "3vl5KDGWbYA8"
      },
      "execution_count": null,
      "outputs": []
    },
    {
      "cell_type": "code",
      "source": [
        "RealImages = next(walk(mypath + 'real'), (None, None, []))[2]\n",
        "RealImages.remove('desktop.ini')"
      ],
      "metadata": {
        "id": "OU1ISVqk4Z99"
      },
      "execution_count": null,
      "outputs": []
    },
    {
      "cell_type": "code",
      "source": [
        "imgs = list()\n",
        "for addr in tqdm(FakeImages):\n",
        "  imgs.append(cv2.imread(mypath + 'fake/' + addr))"
      ],
      "metadata": {
        "id": "JxpeTwKZakXj",
        "colab": {
          "base_uri": "https://localhost:8080/"
        },
        "outputId": "24ad3449-6b09-4279-a6f3-63b3582b5d76"
      },
      "execution_count": null,
      "outputs": [
        {
          "output_type": "stream",
          "name": "stderr",
          "text": [
            "100%|██████████| 1710/1710 [00:35<00:00, 48.36it/s]\n"
          ]
        }
      ]
    },
    {
      "cell_type": "code",
      "source": [
        "for i in tqdm(range(len(imgs))):\n",
        "  # 1 dimensional pics to 3\n",
        "  if len(imgs[i].shape) == 2:\n",
        "    temp = np.array([imgs[i],imgs[i],imgs[i]]).reshape((imgs[i].shape[0], imgs[i].shape[0], 3))\n",
        "    imgs[i] = temp\n",
        "  # (3, x, x) to (x, x, 3)\n",
        "  elif imgs[i].shape[0] < 5:\n",
        "    imgs[i] = imgs[i].reshape((imgs[i].shape[1], imgs[i].shape[2], imgs[i].shape[0]))"
      ],
      "metadata": {
        "colab": {
          "base_uri": "https://localhost:8080/"
        },
        "id": "TiP7_vtBo1TK",
        "outputId": "99b040fa-cd97-4299-eda4-042cff121949"
      },
      "execution_count": null,
      "outputs": [
        {
          "output_type": "stream",
          "name": "stderr",
          "text": [
            "100%|██████████| 1710/1710 [00:00<00:00, 813181.39it/s]\n"
          ]
        }
      ]
    },
    {
      "cell_type": "code",
      "source": [
        "mean = list()\n",
        "std = list()\n",
        "skew = list()\n",
        "for img in tqdm(imgs):\n",
        "  mean.append([np.mean(img[:,:,i]) for i in range(3)])\n",
        "  std.append([np.std(img[:,:,i]) for i in range(3)])\n",
        "  skew.append([stats.skew(img[:,:,i].reshape((img.shape[0]*img.shape[1]))) for i in range(3)])"
      ],
      "metadata": {
        "colab": {
          "base_uri": "https://localhost:8080/"
        },
        "id": "FH1vIIL6iw-g",
        "outputId": "1d16f9c5-f86f-4e67-dd45-bf13b3539b26"
      },
      "execution_count": null,
      "outputs": [
        {
          "output_type": "stream",
          "name": "stderr",
          "text": [
            "100%|██████████| 1710/1710 [01:26<00:00, 19.73it/s]\n"
          ]
        }
      ]
    },
    {
      "cell_type": "code",
      "source": [
        "mean = list()\n",
        "std = list()\n",
        "skew = list()\n",
        "min = list()\n",
        "max = list()\n",
        "names = list()\n",
        "width = list()\n",
        "height = list()\n",
        "for addr in tqdm(FakeImages):\n",
        "  #Read\n",
        "  img = cv2.imread(mypath + 'fake/' + addr)\n",
        "  #\n",
        "  if not isinstance(img, np.ndarray):\n",
        "    continue\n",
        "  names.append(addr)\n",
        "  #Normalize\n",
        "  if len(img.shape) == 2:\n",
        "    img = np.array([img,img,img]).reshape((img.shape[0], img.shape[0], 3))\n",
        "  elif img.shape[0] < 5:\n",
        "    img = img.reshape((img.shape[1], img.shape[2], img.shape[0]))\n",
        "  #Extract Features\n",
        "  mean.append([np.mean(img[:,:,i]) for i in range(3)])\n",
        "  min.append([np.min(img[:,:,i]) for i in range(3)])\n",
        "  max.append([np.max(img[:,:,i]) for i in range(3)])\n",
        "  std.append([np.std(img[:,:,i]) for i in range(3)])\n",
        "  skew.append([stats.skew(img[:,:,i].reshape((img.shape[0]*img.shape[1]))) for i in range(3)])\n",
        "  width.append(img.shape[0])\n",
        "  height.append(img.shape[1])\n",
        "  del img\n",
        "label = ['fake'] * len(mean)"
      ],
      "metadata": {
        "colab": {
          "base_uri": "https://localhost:8080/"
        },
        "id": "yforQFxYFZ2a",
        "outputId": "b49beafb-3497-4fbe-e8cc-194d65e11dff"
      },
      "execution_count": null,
      "outputs": [
        {
          "output_type": "stream",
          "name": "stderr",
          "text": [
            "100%|██████████| 1710/1710 [02:00<00:00, 14.23it/s]\n"
          ]
        }
      ]
    },
    {
      "cell_type": "code",
      "source": [
        "for addr in tqdm(RealImages):\n",
        "  #Read\n",
        "  img = cv2.imread(mypath + 'real/' + addr)\n",
        "  #\n",
        "  if not isinstance(img, np.ndarray):\n",
        "    continue\n",
        "  names.append(addr)\n",
        "  #Normalize\n",
        "  if len(img.shape) == 2:\n",
        "    img = np.array([img,img,img]).reshape((img.shape[0], img.shape[0], 3))\n",
        "  elif img.shape[0] < 5:\n",
        "    img = img.reshape((img.shape[1], img.shape[2], img.shape[0]))\n",
        "  #Extract Features\n",
        "  mean.append([np.mean(img[:,:,i]) for i in range(3)])\n",
        "  min.append([np.min(img[:,:,i]) for i in range(3)])\n",
        "  max.append([np.max(img[:,:,i]) for i in range(3)])\n",
        "  std.append([np.std(img[:,:,i]) for i in range(3)])\n",
        "  skew.append([stats.skew(img[:,:,i].reshape((img.shape[0]*img.shape[1]))) for i in range(3)])\n",
        "  width.append(img.shape[0])\n",
        "  height.append(img.shape[1])\n",
        "  del img\n",
        "label = label + (['real'] * ( len(mean) - len(label) ) )"
      ],
      "metadata": {
        "colab": {
          "base_uri": "https://localhost:8080/"
        },
        "id": "fxg2mHTYf_0b",
        "outputId": "3c31ca8a-6736-4d45-df04-65e608ad757f"
      },
      "execution_count": null,
      "outputs": [
        {
          "output_type": "stream",
          "name": "stderr",
          "text": [
            "100%|██████████| 1710/1710 [17:17<00:00,  1.65it/s]\n"
          ]
        }
      ]
    },
    {
      "cell_type": "code",
      "source": [
        "features = pd.DataFrame()\n",
        "mean1 = np.array(mean)\n",
        "min1 = np.array(min)\n",
        "max1 = np.array(max)\n",
        "std1 = np.array(std)\n",
        "skew1 = np.array(skew)\n",
        "for i in range(3):\n",
        "  features['mean' + str(i)] = mean1[:,i]\n",
        "  features['min' + str(i)] = min1[:,i]\n",
        "  features['max' + str(i)] = max1[:,i]\n",
        "  features['std' + str(i)] = std1[:,i]\n",
        "  features['skew' + str(i)] = skew1[:,i]\n",
        "features['label'] = label\n",
        "features['file_name'] = names"
      ],
      "metadata": {
        "id": "5aOTRMGo5FF9"
      },
      "execution_count": null,
      "outputs": []
    },
    {
      "cell_type": "code",
      "source": [
        "features"
      ],
      "metadata": {
        "colab": {
          "base_uri": "https://localhost:8080/",
          "height": 467
        },
        "outputId": "ac236c6b-971b-4f1b-8e83-da4470a1faf3",
        "id": "IJ6KrtIy5FF9"
      },
      "execution_count": null,
      "outputs": [
        {
          "output_type": "execute_result",
          "data": {
            "text/plain": [
              "           mean0  min0  max0       std0     skew0       mean1  min1  max1  \\\n",
              "0      86.777800     0   255  49.633345  1.076809   99.480340     0   255   \n",
              "1     202.577752    19   255  47.392084 -1.595573  156.982515     0   255   \n",
              "2     140.681107     0   255  76.235533  0.040739  106.972821     9   255   \n",
              "3     159.373792     6   255  48.349334 -0.511037  130.141318     0   255   \n",
              "4     195.327153     8   255  58.596279 -1.507204  174.101384     2   255   \n",
              "...          ...   ...   ...        ...       ...         ...   ...   ...   \n",
              "3412   89.307688     0   255  50.160967  0.424737  102.582437     0   255   \n",
              "3413  173.473782     0   207  29.503077 -2.875409  164.541732     0   244   \n",
              "3414  118.071538     0   255  60.794017 -0.374155  109.236126     0   255   \n",
              "3415  130.326711     0   255  40.252426 -0.049243  130.326711     0   255   \n",
              "3416   87.852471     0   255  63.854172  0.624720   80.645075     0   255   \n",
              "\n",
              "           std1     skew1       mean2  min2  max2       std2     skew2 label  \\\n",
              "0     53.368603  0.646971   80.690243     0   255  48.343427  1.092130  fake   \n",
              "1     48.027968 -0.643141   82.878365     0   255  57.074266  0.827175  fake   \n",
              "2     56.988960  0.844516   84.219409     0   255  62.251163  0.873528  fake   \n",
              "3     42.667631 -0.305628   70.989682     0   255  50.555748  0.959845  fake   \n",
              "4     57.920224 -1.179600  142.926207     0   255  64.921639 -0.567142  fake   \n",
              "...         ...       ...         ...   ...   ...        ...       ...   ...   \n",
              "3412  56.143832  0.382059  102.108937     0   255  64.471643  0.351969  real   \n",
              "3413  32.386832 -1.755864  128.677943     0   255  57.640221 -0.480218  real   \n",
              "3414  52.726437 -0.310408   76.259375     0   255  34.113832  0.833187  real   \n",
              "3415  40.252426 -0.049243  130.326711     0   255  40.252426 -0.049243  real   \n",
              "3416  60.340684  1.030500   68.081755     0   255  62.893262  1.446844  real   \n",
              "\n",
              "                                 file_name  \n",
              "0       810100377_fake_stable_jungle_3.jpg  \n",
              "1          810698270_fake_dalle_sea_4.jpeg  \n",
              "2     810101168_fake_dalle_mountain_4.jpeg  \n",
              "3          810101251_fake_dalle_sea_3.jpeg  \n",
              "4          810199424_fake_dalle_sea_1.jpeg  \n",
              "...                                    ...  \n",
              "3412     810101293_real_none_jungle_6.jpeg  \n",
              "3413        810100284_real_none_sea_7.jpeg  \n",
              "3414  810101293_real_none_mountain_10.jpeg  \n",
              "3415         810100457_real_none_sea_5.jpg  \n",
              "3416   810101224_real_none_mountain_7.jpeg  \n",
              "\n",
              "[3417 rows x 17 columns]"
            ],
            "text/html": [
              "\n",
              "  <div id=\"df-33732ea8-db3e-4e1c-ba00-15ff4495f3ee\">\n",
              "    <div class=\"colab-df-container\">\n",
              "      <div>\n",
              "<style scoped>\n",
              "    .dataframe tbody tr th:only-of-type {\n",
              "        vertical-align: middle;\n",
              "    }\n",
              "\n",
              "    .dataframe tbody tr th {\n",
              "        vertical-align: top;\n",
              "    }\n",
              "\n",
              "    .dataframe thead th {\n",
              "        text-align: right;\n",
              "    }\n",
              "</style>\n",
              "<table border=\"1\" class=\"dataframe\">\n",
              "  <thead>\n",
              "    <tr style=\"text-align: right;\">\n",
              "      <th></th>\n",
              "      <th>mean0</th>\n",
              "      <th>min0</th>\n",
              "      <th>max0</th>\n",
              "      <th>std0</th>\n",
              "      <th>skew0</th>\n",
              "      <th>mean1</th>\n",
              "      <th>min1</th>\n",
              "      <th>max1</th>\n",
              "      <th>std1</th>\n",
              "      <th>skew1</th>\n",
              "      <th>mean2</th>\n",
              "      <th>min2</th>\n",
              "      <th>max2</th>\n",
              "      <th>std2</th>\n",
              "      <th>skew2</th>\n",
              "      <th>label</th>\n",
              "      <th>file_name</th>\n",
              "    </tr>\n",
              "  </thead>\n",
              "  <tbody>\n",
              "    <tr>\n",
              "      <th>0</th>\n",
              "      <td>86.777800</td>\n",
              "      <td>0</td>\n",
              "      <td>255</td>\n",
              "      <td>49.633345</td>\n",
              "      <td>1.076809</td>\n",
              "      <td>99.480340</td>\n",
              "      <td>0</td>\n",
              "      <td>255</td>\n",
              "      <td>53.368603</td>\n",
              "      <td>0.646971</td>\n",
              "      <td>80.690243</td>\n",
              "      <td>0</td>\n",
              "      <td>255</td>\n",
              "      <td>48.343427</td>\n",
              "      <td>1.092130</td>\n",
              "      <td>fake</td>\n",
              "      <td>810100377_fake_stable_jungle_3.jpg</td>\n",
              "    </tr>\n",
              "    <tr>\n",
              "      <th>1</th>\n",
              "      <td>202.577752</td>\n",
              "      <td>19</td>\n",
              "      <td>255</td>\n",
              "      <td>47.392084</td>\n",
              "      <td>-1.595573</td>\n",
              "      <td>156.982515</td>\n",
              "      <td>0</td>\n",
              "      <td>255</td>\n",
              "      <td>48.027968</td>\n",
              "      <td>-0.643141</td>\n",
              "      <td>82.878365</td>\n",
              "      <td>0</td>\n",
              "      <td>255</td>\n",
              "      <td>57.074266</td>\n",
              "      <td>0.827175</td>\n",
              "      <td>fake</td>\n",
              "      <td>810698270_fake_dalle_sea_4.jpeg</td>\n",
              "    </tr>\n",
              "    <tr>\n",
              "      <th>2</th>\n",
              "      <td>140.681107</td>\n",
              "      <td>0</td>\n",
              "      <td>255</td>\n",
              "      <td>76.235533</td>\n",
              "      <td>0.040739</td>\n",
              "      <td>106.972821</td>\n",
              "      <td>9</td>\n",
              "      <td>255</td>\n",
              "      <td>56.988960</td>\n",
              "      <td>0.844516</td>\n",
              "      <td>84.219409</td>\n",
              "      <td>0</td>\n",
              "      <td>255</td>\n",
              "      <td>62.251163</td>\n",
              "      <td>0.873528</td>\n",
              "      <td>fake</td>\n",
              "      <td>810101168_fake_dalle_mountain_4.jpeg</td>\n",
              "    </tr>\n",
              "    <tr>\n",
              "      <th>3</th>\n",
              "      <td>159.373792</td>\n",
              "      <td>6</td>\n",
              "      <td>255</td>\n",
              "      <td>48.349334</td>\n",
              "      <td>-0.511037</td>\n",
              "      <td>130.141318</td>\n",
              "      <td>0</td>\n",
              "      <td>255</td>\n",
              "      <td>42.667631</td>\n",
              "      <td>-0.305628</td>\n",
              "      <td>70.989682</td>\n",
              "      <td>0</td>\n",
              "      <td>255</td>\n",
              "      <td>50.555748</td>\n",
              "      <td>0.959845</td>\n",
              "      <td>fake</td>\n",
              "      <td>810101251_fake_dalle_sea_3.jpeg</td>\n",
              "    </tr>\n",
              "    <tr>\n",
              "      <th>4</th>\n",
              "      <td>195.327153</td>\n",
              "      <td>8</td>\n",
              "      <td>255</td>\n",
              "      <td>58.596279</td>\n",
              "      <td>-1.507204</td>\n",
              "      <td>174.101384</td>\n",
              "      <td>2</td>\n",
              "      <td>255</td>\n",
              "      <td>57.920224</td>\n",
              "      <td>-1.179600</td>\n",
              "      <td>142.926207</td>\n",
              "      <td>0</td>\n",
              "      <td>255</td>\n",
              "      <td>64.921639</td>\n",
              "      <td>-0.567142</td>\n",
              "      <td>fake</td>\n",
              "      <td>810199424_fake_dalle_sea_1.jpeg</td>\n",
              "    </tr>\n",
              "    <tr>\n",
              "      <th>...</th>\n",
              "      <td>...</td>\n",
              "      <td>...</td>\n",
              "      <td>...</td>\n",
              "      <td>...</td>\n",
              "      <td>...</td>\n",
              "      <td>...</td>\n",
              "      <td>...</td>\n",
              "      <td>...</td>\n",
              "      <td>...</td>\n",
              "      <td>...</td>\n",
              "      <td>...</td>\n",
              "      <td>...</td>\n",
              "      <td>...</td>\n",
              "      <td>...</td>\n",
              "      <td>...</td>\n",
              "      <td>...</td>\n",
              "      <td>...</td>\n",
              "    </tr>\n",
              "    <tr>\n",
              "      <th>3412</th>\n",
              "      <td>89.307688</td>\n",
              "      <td>0</td>\n",
              "      <td>255</td>\n",
              "      <td>50.160967</td>\n",
              "      <td>0.424737</td>\n",
              "      <td>102.582437</td>\n",
              "      <td>0</td>\n",
              "      <td>255</td>\n",
              "      <td>56.143832</td>\n",
              "      <td>0.382059</td>\n",
              "      <td>102.108937</td>\n",
              "      <td>0</td>\n",
              "      <td>255</td>\n",
              "      <td>64.471643</td>\n",
              "      <td>0.351969</td>\n",
              "      <td>real</td>\n",
              "      <td>810101293_real_none_jungle_6.jpeg</td>\n",
              "    </tr>\n",
              "    <tr>\n",
              "      <th>3413</th>\n",
              "      <td>173.473782</td>\n",
              "      <td>0</td>\n",
              "      <td>207</td>\n",
              "      <td>29.503077</td>\n",
              "      <td>-2.875409</td>\n",
              "      <td>164.541732</td>\n",
              "      <td>0</td>\n",
              "      <td>244</td>\n",
              "      <td>32.386832</td>\n",
              "      <td>-1.755864</td>\n",
              "      <td>128.677943</td>\n",
              "      <td>0</td>\n",
              "      <td>255</td>\n",
              "      <td>57.640221</td>\n",
              "      <td>-0.480218</td>\n",
              "      <td>real</td>\n",
              "      <td>810100284_real_none_sea_7.jpeg</td>\n",
              "    </tr>\n",
              "    <tr>\n",
              "      <th>3414</th>\n",
              "      <td>118.071538</td>\n",
              "      <td>0</td>\n",
              "      <td>255</td>\n",
              "      <td>60.794017</td>\n",
              "      <td>-0.374155</td>\n",
              "      <td>109.236126</td>\n",
              "      <td>0</td>\n",
              "      <td>255</td>\n",
              "      <td>52.726437</td>\n",
              "      <td>-0.310408</td>\n",
              "      <td>76.259375</td>\n",
              "      <td>0</td>\n",
              "      <td>255</td>\n",
              "      <td>34.113832</td>\n",
              "      <td>0.833187</td>\n",
              "      <td>real</td>\n",
              "      <td>810101293_real_none_mountain_10.jpeg</td>\n",
              "    </tr>\n",
              "    <tr>\n",
              "      <th>3415</th>\n",
              "      <td>130.326711</td>\n",
              "      <td>0</td>\n",
              "      <td>255</td>\n",
              "      <td>40.252426</td>\n",
              "      <td>-0.049243</td>\n",
              "      <td>130.326711</td>\n",
              "      <td>0</td>\n",
              "      <td>255</td>\n",
              "      <td>40.252426</td>\n",
              "      <td>-0.049243</td>\n",
              "      <td>130.326711</td>\n",
              "      <td>0</td>\n",
              "      <td>255</td>\n",
              "      <td>40.252426</td>\n",
              "      <td>-0.049243</td>\n",
              "      <td>real</td>\n",
              "      <td>810100457_real_none_sea_5.jpg</td>\n",
              "    </tr>\n",
              "    <tr>\n",
              "      <th>3416</th>\n",
              "      <td>87.852471</td>\n",
              "      <td>0</td>\n",
              "      <td>255</td>\n",
              "      <td>63.854172</td>\n",
              "      <td>0.624720</td>\n",
              "      <td>80.645075</td>\n",
              "      <td>0</td>\n",
              "      <td>255</td>\n",
              "      <td>60.340684</td>\n",
              "      <td>1.030500</td>\n",
              "      <td>68.081755</td>\n",
              "      <td>0</td>\n",
              "      <td>255</td>\n",
              "      <td>62.893262</td>\n",
              "      <td>1.446844</td>\n",
              "      <td>real</td>\n",
              "      <td>810101224_real_none_mountain_7.jpeg</td>\n",
              "    </tr>\n",
              "  </tbody>\n",
              "</table>\n",
              "<p>3417 rows × 17 columns</p>\n",
              "</div>\n",
              "      <button class=\"colab-df-convert\" onclick=\"convertToInteractive('df-33732ea8-db3e-4e1c-ba00-15ff4495f3ee')\"\n",
              "              title=\"Convert this dataframe to an interactive table.\"\n",
              "              style=\"display:none;\">\n",
              "        \n",
              "  <svg xmlns=\"http://www.w3.org/2000/svg\" height=\"24px\"viewBox=\"0 0 24 24\"\n",
              "       width=\"24px\">\n",
              "    <path d=\"M0 0h24v24H0V0z\" fill=\"none\"/>\n",
              "    <path d=\"M18.56 5.44l.94 2.06.94-2.06 2.06-.94-2.06-.94-.94-2.06-.94 2.06-2.06.94zm-11 1L8.5 8.5l.94-2.06 2.06-.94-2.06-.94L8.5 2.5l-.94 2.06-2.06.94zm10 10l.94 2.06.94-2.06 2.06-.94-2.06-.94-.94-2.06-.94 2.06-2.06.94z\"/><path d=\"M17.41 7.96l-1.37-1.37c-.4-.4-.92-.59-1.43-.59-.52 0-1.04.2-1.43.59L10.3 9.45l-7.72 7.72c-.78.78-.78 2.05 0 2.83L4 21.41c.39.39.9.59 1.41.59.51 0 1.02-.2 1.41-.59l7.78-7.78 2.81-2.81c.8-.78.8-2.07 0-2.86zM5.41 20L4 18.59l7.72-7.72 1.47 1.35L5.41 20z\"/>\n",
              "  </svg>\n",
              "      </button>\n",
              "      \n",
              "  <style>\n",
              "    .colab-df-container {\n",
              "      display:flex;\n",
              "      flex-wrap:wrap;\n",
              "      gap: 12px;\n",
              "    }\n",
              "\n",
              "    .colab-df-convert {\n",
              "      background-color: #E8F0FE;\n",
              "      border: none;\n",
              "      border-radius: 50%;\n",
              "      cursor: pointer;\n",
              "      display: none;\n",
              "      fill: #1967D2;\n",
              "      height: 32px;\n",
              "      padding: 0 0 0 0;\n",
              "      width: 32px;\n",
              "    }\n",
              "\n",
              "    .colab-df-convert:hover {\n",
              "      background-color: #E2EBFA;\n",
              "      box-shadow: 0px 1px 2px rgba(60, 64, 67, 0.3), 0px 1px 3px 1px rgba(60, 64, 67, 0.15);\n",
              "      fill: #174EA6;\n",
              "    }\n",
              "\n",
              "    [theme=dark] .colab-df-convert {\n",
              "      background-color: #3B4455;\n",
              "      fill: #D2E3FC;\n",
              "    }\n",
              "\n",
              "    [theme=dark] .colab-df-convert:hover {\n",
              "      background-color: #434B5C;\n",
              "      box-shadow: 0px 1px 3px 1px rgba(0, 0, 0, 0.15);\n",
              "      filter: drop-shadow(0px 1px 2px rgba(0, 0, 0, 0.3));\n",
              "      fill: #FFFFFF;\n",
              "    }\n",
              "  </style>\n",
              "\n",
              "      <script>\n",
              "        const buttonEl =\n",
              "          document.querySelector('#df-33732ea8-db3e-4e1c-ba00-15ff4495f3ee button.colab-df-convert');\n",
              "        buttonEl.style.display =\n",
              "          google.colab.kernel.accessAllowed ? 'block' : 'none';\n",
              "\n",
              "        async function convertToInteractive(key) {\n",
              "          const element = document.querySelector('#df-33732ea8-db3e-4e1c-ba00-15ff4495f3ee');\n",
              "          const dataTable =\n",
              "            await google.colab.kernel.invokeFunction('convertToInteractive',\n",
              "                                                     [key], {});\n",
              "          if (!dataTable) return;\n",
              "\n",
              "          const docLinkHtml = 'Like what you see? Visit the ' +\n",
              "            '<a target=\"_blank\" href=https://colab.research.google.com/notebooks/data_table.ipynb>data table notebook</a>'\n",
              "            + ' to learn more about interactive tables.';\n",
              "          element.innerHTML = '';\n",
              "          dataTable['output_type'] = 'display_data';\n",
              "          await google.colab.output.renderOutput(dataTable, element);\n",
              "          const docLink = document.createElement('div');\n",
              "          docLink.innerHTML = docLinkHtml;\n",
              "          element.appendChild(docLink);\n",
              "        }\n",
              "      </script>\n",
              "    </div>\n",
              "  </div>\n",
              "  "
            ]
          },
          "metadata": {},
          "execution_count": 76
        }
      ]
    },
    {
      "cell_type": "code",
      "source": [
        "from sklearn.model_selection import train_test_split\n",
        "X_train, X_test, y_train, y_test = train_test_split(features[[x for x in features.columns if not x in ['label', 'file_name']]], features['label'], train_size=0.7)"
      ],
      "metadata": {
        "id": "SQm7iZs-PRd_"
      },
      "execution_count": null,
      "outputs": []
    },
    {
      "cell_type": "code",
      "source": [
        "svmmodel = SVC(C=10000).fit(X_train, y_train)\n",
        "pred = svmmodel.predict(X_test)\n",
        "cr = classification_report(y_test, pred).split(\"\\n\")\n",
        "for c in cr:\n",
        "  print(c)"
      ],
      "metadata": {
        "colab": {
          "base_uri": "https://localhost:8080/"
        },
        "id": "QSCOEURzOFdg",
        "outputId": "db76239e-682f-4988-bc88-a67cfbbbdff4"
      },
      "execution_count": null,
      "outputs": [
        {
          "output_type": "stream",
          "name": "stdout",
          "text": [
            "              precision    recall  f1-score   support\n",
            "\n",
            "        fake       0.61      0.66      0.63       499\n",
            "        real       0.65      0.61      0.63       527\n",
            "\n",
            "    accuracy                           0.63      1026\n",
            "   macro avg       0.63      0.63      0.63      1026\n",
            "weighted avg       0.63      0.63      0.63      1026\n",
            "\n"
          ]
        }
      ]
    },
    {
      "cell_type": "code",
      "source": [
        "nbmodel = GaussianNB().fit(X_train, y_train)\n",
        "pred = nbmodel.predict(X_test)\n",
        "cr = classification_report(y_test, pred).split(\"\\n\")\n",
        "for c in cr:\n",
        "  print(c)"
      ],
      "metadata": {
        "colab": {
          "base_uri": "https://localhost:8080/"
        },
        "id": "JXveAr46Ou8J",
        "outputId": "7a3fd447-6520-406d-eefe-e0e410797994"
      },
      "execution_count": null,
      "outputs": [
        {
          "output_type": "stream",
          "name": "stdout",
          "text": [
            "              precision    recall  f1-score   support\n",
            "\n",
            "        fake       0.55      0.57      0.56       499\n",
            "        real       0.58      0.56      0.57       527\n",
            "\n",
            "    accuracy                           0.56      1026\n",
            "   macro avg       0.56      0.56      0.56      1026\n",
            "weighted avg       0.56      0.56      0.56      1026\n",
            "\n"
          ]
        }
      ]
    },
    {
      "cell_type": "code",
      "source": [
        "lrmodel = LogisticRegression(max_iter=1000).fit(X_train, y_train)\n",
        "pred = lrmodel.predict(X_test)\n",
        "cr = classification_report(y_test, pred).split(\"\\n\")\n",
        "for c in cr:\n",
        "  print(c)"
      ],
      "metadata": {
        "colab": {
          "base_uri": "https://localhost:8080/"
        },
        "id": "puabZWg8P3Ou",
        "outputId": "0d13b898-4816-4a0b-daaa-3dcbee2a5f34"
      },
      "execution_count": null,
      "outputs": [
        {
          "output_type": "stream",
          "name": "stdout",
          "text": [
            "              precision    recall  f1-score   support\n",
            "\n",
            "        fake       0.54      0.59      0.56       499\n",
            "        real       0.57      0.52      0.55       527\n",
            "\n",
            "    accuracy                           0.55      1026\n",
            "   macro avg       0.55      0.55      0.55      1026\n",
            "weighted avg       0.55      0.55      0.55      1026\n",
            "\n"
          ]
        }
      ]
    },
    {
      "cell_type": "code",
      "source": [
        "mlpmodel = MLPClassifier(hidden_layer_sizes=[64,16,16,16,16,8]).fit(X_train, y_train)\n",
        "pred = mlpmodel.predict(X_test)\n",
        "cr = classification_report(y_test, pred).split(\"\\n\")\n",
        "for c in cr:\n",
        "  print(c)"
      ],
      "metadata": {
        "colab": {
          "base_uri": "https://localhost:8080/"
        },
        "id": "iXz_vhH1Qel1",
        "outputId": "a8d8f0e9-b19e-4064-fc32-343c53feebb1"
      },
      "execution_count": null,
      "outputs": [
        {
          "output_type": "stream",
          "name": "stdout",
          "text": [
            "              precision    recall  f1-score   support\n",
            "\n",
            "        fake       0.56      0.77      0.65       499\n",
            "        real       0.66      0.42      0.51       527\n",
            "\n",
            "    accuracy                           0.59      1026\n",
            "   macro avg       0.61      0.59      0.58      1026\n",
            "weighted avg       0.61      0.59      0.58      1026\n",
            "\n"
          ]
        }
      ]
    }
  ]
}