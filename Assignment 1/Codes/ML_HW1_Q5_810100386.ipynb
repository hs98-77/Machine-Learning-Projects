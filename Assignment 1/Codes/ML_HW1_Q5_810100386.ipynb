{
  "nbformat": 4,
  "nbformat_minor": 0,
  "metadata": {
    "colab": {
      "provenance": [],
      "collapsed_sections": [
        "s0lSaD8nNIrx",
        "7Rc7xLHuNNJV",
        "jwdzX-GTNhVw",
        "jGisOnUMNsXu",
        "upvTZ13yOACe"
      ]
    },
    "kernelspec": {
      "name": "python3",
      "display_name": "Python 3"
    },
    "language_info": {
      "name": "python"
    }
  },
  "cells": [
    {
      "cell_type": "markdown",
      "source": [
        "Hosein Seifi<br>\n",
        "810100386"
      ],
      "metadata": {
        "id": "AHsiDQIF_4Zr"
      }
    },
    {
      "cell_type": "markdown",
      "source": [
        "#Pre-Processing"
      ],
      "metadata": {
        "id": "YUEyddsSNblf"
      }
    },
    {
      "cell_type": "markdown",
      "source": [
        "##Load Data"
      ],
      "metadata": {
        "id": "s0lSaD8nNIrx"
      }
    },
    {
      "cell_type": "code",
      "execution_count": null,
      "metadata": {
        "colab": {
          "base_uri": "https://localhost:8080/"
        },
        "id": "T4CU7FhmL-hp",
        "outputId": "cfbabf52-8f33-474f-8015-003b69686a59"
      },
      "outputs": [
        {
          "output_type": "stream",
          "name": "stdout",
          "text": [
            "Mounted at /content/drive\n"
          ]
        }
      ],
      "source": [
        "from google.colab import drive\n",
        "drive.mount('/content/drive')\n",
        "import pandas as pd\n",
        "data = pd.read_csv('/content/drive/MyDrive/ML_HW1_Data/penguins.csv')"
      ]
    },
    {
      "cell_type": "markdown",
      "source": [
        "##Drop invalid values"
      ],
      "metadata": {
        "id": "7Rc7xLHuNNJV"
      }
    },
    {
      "cell_type": "code",
      "source": [
        "data = data.drop(data.index[data['culmen_length_mm']=='x'].tolist())"
      ],
      "metadata": {
        "id": "evc0JtlrNRHf"
      },
      "execution_count": null,
      "outputs": []
    },
    {
      "cell_type": "markdown",
      "source": [
        "##Find Labels and set features names to a list"
      ],
      "metadata": {
        "id": "jwdzX-GTNhVw"
      }
    },
    {
      "cell_type": "code",
      "source": [
        "labels = list(set(data['species']))\n",
        "features = ['culmen_length_mm', 'culmen_depth_mm', 'flipper_length_mm', 'body_mass_g']"
      ],
      "metadata": {
        "id": "UYom75kkNjbu"
      },
      "execution_count": null,
      "outputs": []
    },
    {
      "cell_type": "markdown",
      "source": [
        "##Create Numeric Labels"
      ],
      "metadata": {
        "id": "jGisOnUMNsXu"
      }
    },
    {
      "cell_type": "code",
      "source": [
        "numerical_label = list()\n",
        "for i in range(data.shape[0]):\n",
        "    numerical_label.append(labels.index(data.iloc[i]['species']))\n",
        "data['label'] = numerical_label"
      ],
      "metadata": {
        "id": "IdsQf7_ONsgu"
      },
      "execution_count": null,
      "outputs": []
    },
    {
      "cell_type": "markdown",
      "source": [
        "##Cast features to float data type"
      ],
      "metadata": {
        "id": "PY0_IingN2Pf"
      }
    },
    {
      "cell_type": "code",
      "source": [
        "for col in features:\n",
        "    data[col] = [float(i) for i in list(data[col])]"
      ],
      "metadata": {
        "id": "IzhYTa7_N1q4"
      },
      "execution_count": null,
      "outputs": []
    },
    {
      "cell_type": "markdown",
      "source": [],
      "metadata": {
        "id": "jewxII3z_2Tc"
      }
    },
    {
      "cell_type": "markdown",
      "source": [
        "#Naive Bayes from scratch"
      ],
      "metadata": {
        "id": "upvTZ13yOACe"
      }
    },
    {
      "cell_type": "markdown",
      "source": [
        "##Split data into train and test sets"
      ],
      "metadata": {
        "id": "1Lk7bZAgOSm_"
      }
    },
    {
      "cell_type": "code",
      "source": [
        "from random import randint\n",
        "def train_test_split(data, train_size):\n",
        "    data = data.values.tolist()\n",
        "    train = list()\n",
        "    test = list()\n",
        "    for i in range(len(data)):\n",
        "        if randint(0,10)/10 > train_size:\n",
        "            test.append(data[i])\n",
        "        else:\n",
        "            train.append(data[i])\n",
        "    return train, test"
      ],
      "metadata": {
        "id": "giLGgjg0OAI2"
      },
      "execution_count": null,
      "outputs": []
    },
    {
      "cell_type": "code",
      "source": [
        "train, test = train_test_split(data, 0.8)\n",
        "train = pd.DataFrame(train, columns=data.columns)\n",
        "test = pd.DataFrame(test, columns=data.columns)"
      ],
      "metadata": {
        "id": "1jwAwTyJOZd3"
      },
      "execution_count": null,
      "outputs": []
    },
    {
      "cell_type": "markdown",
      "source": [
        "##Group train data by their labels"
      ],
      "metadata": {
        "id": "m1AJYBw5OcW3"
      }
    },
    {
      "cell_type": "code",
      "source": [
        "def group_by_label(data):\n",
        "    pdata = dict()\n",
        "    for l in range(len(labels)):\n",
        "        pdata[l] = list()\n",
        "    for i in range(data.shape[0]):\n",
        "        pdata[data.iloc[i]['label']].append(data.iloc[i][features].tolist())\n",
        "    return pdata"
      ],
      "metadata": {
        "id": "Ict1-Y8QOccn"
      },
      "execution_count": null,
      "outputs": []
    },
    {
      "cell_type": "code",
      "source": [
        "gtrain = group_by_label(train)"
      ],
      "metadata": {
        "id": "CzwWSfZ3OlAu"
      },
      "execution_count": null,
      "outputs": []
    },
    {
      "cell_type": "markdown",
      "source": [
        "##Calculate priors"
      ],
      "metadata": {
        "id": "OvL6og9NOnpA"
      }
    },
    {
      "cell_type": "code",
      "source": [
        "def prior(data, labels, n):\n",
        "    pci = dict()\n",
        "    for i in range(len(labels)):\n",
        "        pci[i] = len(data[i])/n\n",
        "    return pci"
      ],
      "metadata": {
        "id": "euZ1feV9Onu_"
      },
      "execution_count": null,
      "outputs": []
    },
    {
      "cell_type": "code",
      "source": [
        "pci = prior(gtrain, labels, sum([len(i) for i in gtrain.values()]))"
      ],
      "metadata": {
        "id": "cRd7MZCgOtkW"
      },
      "execution_count": null,
      "outputs": []
    },
    {
      "cell_type": "markdown",
      "source": [
        "##Mean and Standard deviation functions"
      ],
      "metadata": {
        "id": "vYmAF15yOv9u"
      }
    },
    {
      "cell_type": "code",
      "source": [
        "def mean(x):\n",
        "    return (1/len(x))*sum(x)"
      ],
      "metadata": {
        "id": "i8W07zPaOwEm"
      },
      "execution_count": null,
      "outputs": []
    },
    {
      "cell_type": "code",
      "source": [
        "def stddev(x):\n",
        "    m = mean(x)\n",
        "    x2 = [(i-m)**2 for i in x]\n",
        "    return (sum(x2)/(len(x)-1))**0.5"
      ],
      "metadata": {
        "id": "vW4LbbQyO8kn"
      },
      "execution_count": null,
      "outputs": []
    },
    {
      "cell_type": "markdown",
      "source": [
        "##Calculate Mean and Standard deviation for the whole train data"
      ],
      "metadata": {
        "id": "F-iRFE-LPHUm"
      }
    },
    {
      "cell_type": "code",
      "source": [
        "meanstd = dict()\n",
        "for col in features:\n",
        "    a = mean(list(train[col]))\n",
        "    b = stddev(list(train[col]))\n",
        "    meanstd[col] = [a,b]"
      ],
      "metadata": {
        "id": "D9CN-4ApO_ge"
      },
      "execution_count": null,
      "outputs": []
    },
    {
      "cell_type": "markdown",
      "source": [
        "##Calculate Mean and Standard deviation for each class"
      ],
      "metadata": {
        "id": "zZU1CiihPTQx"
      }
    },
    {
      "cell_type": "code",
      "source": [
        "classes_meanstd = dict()\n",
        "for k in gtrain.keys():\n",
        "    temp = list()\n",
        "    for i in range(4):\n",
        "        a = mean([item[i] for item in gtrain[k]])\n",
        "        b = stddev([item[i] for item in gtrain[k]])\n",
        "        temp.append([a,b])\n",
        "    classes_meanstd[k] = temp"
      ],
      "metadata": {
        "id": "dpvrIu3UPTX_"
      },
      "execution_count": null,
      "outputs": []
    },
    {
      "cell_type": "code",
      "source": [
        "for c, e in classes_meanstd.items():\n",
        "  print(c)\n",
        "  for i in e:\n",
        "    print(i)"
      ],
      "metadata": {
        "colab": {
          "base_uri": "https://localhost:8080/"
        },
        "id": "V9TqzcZ7bRwY",
        "outputId": "6c29e50e-7ce8-4991-ffee-befa01b914d0"
      },
      "execution_count": null,
      "outputs": [
        {
          "output_type": "stream",
          "name": "stdout",
          "text": [
            "0\n",
            "[38.86434108527132, 2.704995334146056]\n",
            "[18.30077519379844, 1.2155564649080872]\n",
            "[189.5658914728682, 6.661274466600205]\n",
            "[3692.4418604651164, 456.1494393798062]\n",
            "1\n",
            "[47.41938775510203, 3.332491039524084]\n",
            "[14.98979591836734, 1.0345066851560956]\n",
            "[217.28571428571428, 6.57549339609294]\n",
            "[5050.2551020408155, 524.9017445851615]\n",
            "2\n",
            "[48.74905660377358, 3.1139649868041364]\n",
            "[18.409433962264153, 1.1755954548397025]\n",
            "[195.62264150943395, 6.549299478377409]\n",
            "[3707.5471698113206, 409.49032890043924]\n"
          ]
        }
      ]
    },
    {
      "cell_type": "markdown",
      "source": [
        "##Gaussian PDF"
      ],
      "metadata": {
        "id": "3lN47quePft3"
      }
    },
    {
      "cell_type": "code",
      "source": [
        "pi = 3.14159265359\n",
        "e = 2.71828\n",
        "def probability(x, mean, stddev):\n",
        "    exp = e**( (-0.5) * ( ( (x-mean) /stddev) ** 2) )\n",
        "    return ( 1 / (stddev * ( 2 * pi ) ** 0.5 ) ) * exp"
      ],
      "metadata": {
        "id": "fO7598QbPfzm"
      },
      "execution_count": null,
      "outputs": []
    },
    {
      "cell_type": "markdown",
      "source": [
        "##Argmax function"
      ],
      "metadata": {
        "id": "BkSVKdubQQoX"
      }
    },
    {
      "cell_type": "code",
      "source": [
        "def argmax(a):\n",
        "    maxx = 0\n",
        "    argmaxx = 0\n",
        "    for arg,x in a.items():\n",
        "        if x > maxx:\n",
        "            maxx = x\n",
        "            argmaxx = arg\n",
        "    return argmaxx"
      ],
      "metadata": {
        "id": "0KSQ3wYeQQtw"
      },
      "execution_count": null,
      "outputs": []
    },
    {
      "cell_type": "markdown",
      "source": [
        "##Calculate probability of each sample belonging to one of three classes"
      ],
      "metadata": {
        "id": "ODuUV-E4QaBn"
      }
    },
    {
      "cell_type": "code",
      "source": [
        "def calc_prob(classes_meanstd, x):\n",
        "    prob = dict()\n",
        "    for k in classes_meanstd.keys():\n",
        "        temp = 1\n",
        "        i = 0\n",
        "        for attr in classes_meanstd[k]:\n",
        "            temp *= probability(x[i], attr[0], attr[1])\n",
        "            i += 1\n",
        "        prob[k] = temp\n",
        "    return prob"
      ],
      "metadata": {
        "id": "FFrETyONQaFy"
      },
      "execution_count": null,
      "outputs": []
    },
    {
      "cell_type": "markdown",
      "source": [
        "##Seperate label and features of test set"
      ],
      "metadata": {
        "id": "cUOiI-F7QqEi"
      }
    },
    {
      "cell_type": "code",
      "source": [
        "test = test.values.tolist()\n",
        "x_test = [ item[1:5] for item in test ]\n",
        "y_test = [ item[5] for item in test ]"
      ],
      "metadata": {
        "id": "WQscQFrfQqID"
      },
      "execution_count": null,
      "outputs": []
    },
    {
      "cell_type": "markdown",
      "source": [
        "##Predict function"
      ],
      "metadata": {
        "id": "EI-vOh9OQ8aA"
      }
    },
    {
      "cell_type": "code",
      "source": [
        "def predict(classes_meanstd, test):\n",
        "    predicted = list()\n",
        "    for x in test:\n",
        "        prob = calc_prob(classes_meanstd, x)\n",
        "        print(prob)\n",
        "        predicted.append(argmax(prob))\n",
        "    return predicted"
      ],
      "metadata": {
        "id": "zUfiRIC9Q25e"
      },
      "execution_count": null,
      "outputs": []
    },
    {
      "cell_type": "markdown",
      "source": [
        "##predict label of each test sample"
      ],
      "metadata": {
        "id": "egoHO4lORLIf"
      }
    },
    {
      "cell_type": "code",
      "source": [
        "pred = predict(classes_meanstd, x_test)"
      ],
      "metadata": {
        "colab": {
          "base_uri": "https://localhost:8080/"
        },
        "id": "-xRNv62KRLN1",
        "outputId": "85c9952e-8dff-460d-e0ab-a6ea407e125d"
      },
      "execution_count": null,
      "outputs": [
        {
          "output_type": "stream",
          "name": "stdout",
          "text": [
            "{0: 1.5794245836203354e-06, 1: 5.96271541025297e-15, 2: 7.17834423592286e-09}\n",
            "{0: 1.6396881274309843e-08, 1: 8.583791331948866e-16, 2: 7.761241353970638e-09}\n",
            "{0: 1.1730750663661745e-06, 1: 1.2493921612142156e-17, 2: 1.202444773312526e-08}\n",
            "{0: 4.894781974679064e-07, 1: 1.966799587034889e-14, 2: 3.1117462107467204e-10}\n",
            "{0: 6.730855655512462e-08, 1: 3.293374801197543e-18, 2: 9.506100993065504e-10}\n",
            "{0: 1.1876302258726626e-06, 1: 2.007027162797925e-16, 2: 3.055389104959004e-10}\n",
            "{0: 8.104509538736119e-07, 1: 2.6749952985504396e-15, 2: 8.911098758682732e-09}\n",
            "{0: 2.9400184301256846e-07, 1: 7.585215284150891e-19, 2: 9.429902625025325e-12}\n",
            "{0: 2.7017913521448186e-07, 1: 2.5546821204364208e-17, 2: 1.3900724385305739e-11}\n",
            "{0: 9.650181540013596e-07, 1: 6.48744661615235e-18, 2: 3.828994646765941e-10}\n",
            "{0: 4.998170332740984e-08, 1: 2.414671516869072e-10, 2: 1.536950096684312e-08}\n",
            "{0: 7.132286518875441e-07, 1: 5.795851421693321e-17, 2: 1.2595358754086641e-10}\n",
            "{0: 4.821738514469739e-07, 1: 1.4964050535816893e-12, 2: 1.8901960168223992e-08}\n",
            "{0: 8.075259434380867e-07, 1: 9.966580543948704e-16, 2: 1.177026069883623e-10}\n",
            "{0: 7.054596160155729e-09, 1: 2.0929762091401575e-13, 2: 1.1306117729963678e-09}\n",
            "{0: 4.908077414470407e-07, 1: 2.4538999671611884e-17, 2: 8.755645621452678e-10}\n",
            "{0: 3.069002323177648e-07, 1: 1.008899757883511e-18, 2: 3.602802468365637e-09}\n",
            "{0: 4.433220751533648e-07, 1: 1.0572418493333399e-16, 2: 1.9478118393485854e-09}\n",
            "{0: 1.379806087903766e-06, 1: 3.460755550940991e-15, 2: 5.515719136287462e-09}\n",
            "{0: 1.7165854193299712e-06, 1: 9.314350991476124e-16, 2: 4.666445812249422e-09}\n",
            "{0: 1.6131012381530395e-06, 1: 3.623977822896378e-16, 2: 1.9471687610394123e-09}\n",
            "{0: 1.8411620486905494e-10, 1: 5.6524516014182794e-14, 2: 1.3836654378995129e-06}\n",
            "{0: 5.735679371891536e-08, 1: 6.418044641209976e-11, 2: 9.256993122900173e-07}\n",
            "{0: 1.5504936258646118e-08, 1: 3.714201172140311e-14, 2: 3.787931779405123e-07}\n",
            "{0: 1.383858698045852e-17, 1: 3.0714635947547732e-18, 2: 2.260863242327743e-09}\n",
            "{0: 5.279468362257198e-12, 1: 8.900067691804627e-13, 2: 7.195189536344448e-07}\n",
            "{0: 2.395305025336164e-09, 1: 8.731491792514803e-10, 2: 7.31126292848181e-07}\n",
            "{0: 1.8155546591628533e-12, 1: 2.414654741532701e-11, 2: 2.3719968805408107e-08}\n",
            "{0: 6.360872804539247e-08, 1: 3.695768324331932e-12, 2: 9.125331030938955e-07}\n",
            "{0: 5.128289884819444e-07, 1: 7.711506349459209e-15, 2: 6.335750603103255e-08}\n",
            "{0: 5.6828045242681916e-08, 1: 5.7581705811062955e-15, 2: 9.525911678812543e-07}\n",
            "{0: 5.738263699245798e-13, 1: 1.638345156466857e-12, 2: 2.4050414952271063e-07}\n",
            "{0: 9.45546697135223e-17, 1: 7.234118137089124e-14, 2: 1.6920550878278655e-08}\n",
            "{0: 8.266174884827117e-10, 1: 7.949665156671413e-13, 2: 2.227459416951842e-06}\n",
            "{0: 7.720636218700281e-13, 1: 7.301045352916222e-11, 2: 1.0392529371038111e-07}\n",
            "{0: 1.4071872653381153e-19, 1: 7.139453573854969e-07, 2: 1.2083309513136825e-15}\n",
            "{0: 6.422351414595501e-17, 1: 1.4327603313188309e-06, 2: 2.3464569599770305e-14}\n",
            "{0: 4.4359328372722315e-16, 1: 1.8452533125145657e-06, 2: 1.4038386382851443e-13}\n",
            "{0: 8.235151377862047e-15, 1: 1.7881690559619134e-06, 2: 2.0334196602682043e-12}\n",
            "{0: 1.1903807983097324e-20, 1: 5.560577433369783e-07, 2: 1.0842320852420083e-16}\n",
            "{0: 1.5034972390058186e-14, 1: 1.3997130269525607e-06, 2: 4.445940803901153e-13}\n",
            "{0: 2.1921752227397907e-13, 1: 6.877584021016371e-07, 2: 5.5882854179428656e-11}\n",
            "{0: 1.2922170066069681e-14, 1: 1.8341747383656004e-06, 2: 1.3239050070106042e-12}\n",
            "{0: 6.165735403890561e-20, 1: 4.634703590150709e-07, 2: 2.7240290075469396e-15}\n",
            "{0: 5.1882370495241655e-14, 1: 7.766822454407001e-07, 2: 6.129441145658487e-12}\n",
            "{0: 4.923741402728579e-14, 1: 1.1168504675147964e-06, 2: 7.591299554705904e-12}\n",
            "{0: 1.422212473836986e-22, 1: 6.518108121613567e-08, 2: 2.099903085139937e-18}\n",
            "{0: 6.957403366844051e-17, 1: 1.4771669910872897e-06, 2: 2.474784863966995e-13}\n",
            "{0: 1.5026045566229128e-22, 1: 6.901303489050157e-08, 2: 7.017406596957624e-19}\n",
            "{0: 1.0271934552387738e-13, 1: 4.975870715486562e-07, 2: 4.520763651590909e-11}\n",
            "{0: 5.197088022757846e-14, 1: 5.074841831840195e-07, 2: 9.470481463156308e-13}\n",
            "{0: 3.4163528730900947e-20, 1: 3.044406811779046e-07, 2: 3.9640245543132853e-16}\n",
            "{0: 7.370447292016702e-17, 1: 1.432861160131893e-06, 2: 5.856399191765749e-14}\n",
            "{0: 4.770571697161507e-13, 1: 1.178349743975926e-07, 2: 3.292476543004337e-10}\n",
            "{0: 1.2852709764595484e-15, 1: 6.492354080571876e-07, 2: 4.1183600301522313e-13}\n",
            "{0: 5.29768399154565e-16, 1: 8.376502650333088e-07, 2: 1.753663639111532e-13}\n",
            "{0: 2.2266333849263407e-16, 1: 5.875896505672708e-07, 2: 2.0223404971021443e-12}\n"
          ]
        }
      ]
    },
    {
      "cell_type": "markdown",
      "source": [
        "##Confusion Matrix"
      ],
      "metadata": {
        "id": "h5kyU5CzRVwA"
      }
    },
    {
      "cell_type": "code",
      "source": [
        "import numpy as np\n",
        "def confusion_matrix(y, pred):\n",
        "    cm = np.zeros([3,3])\n",
        "    for i in range(len(y)):\n",
        "        cm[y[i],pred[i]] += 1\n",
        "    return cm"
      ],
      "metadata": {
        "id": "4gChabh_RV2B"
      },
      "execution_count": null,
      "outputs": []
    },
    {
      "cell_type": "code",
      "source": [
        "cm = confusion_matrix(y_test,pred)\n",
        "cm"
      ],
      "metadata": {
        "colab": {
          "base_uri": "https://localhost:8080/"
        },
        "id": "AatTemPcReOg",
        "outputId": "c255ca04-e937-442d-bfe7-276cd6967e1e"
      },
      "execution_count": null,
      "outputs": [
        {
          "output_type": "execute_result",
          "data": {
            "text/plain": [
              "array([[21.,  0.,  0.],\n",
              "       [ 0., 22.,  0.],\n",
              "       [ 1.,  0., 13.]])"
            ]
          },
          "metadata": {},
          "execution_count": 108
        }
      ]
    },
    {
      "cell_type": "markdown",
      "source": [
        "##One vs All confusion Matrix "
      ],
      "metadata": {
        "id": "x-sJHL6hRjaY"
      }
    },
    {
      "cell_type": "code",
      "source": [
        "def onevsallcm(cm, c):\n",
        "    result = np.zeros([2,2])\n",
        "    result[0,0] = cm[c,c]\n",
        "    for i in range(3):\n",
        "        if not i == c:\n",
        "            result[0,1] += cm[c,i] \n",
        "            result[1,0] += cm[i,c]\n",
        "    result[1,1] = np.sum(cm) - result[0,0] - result[0,1] - result[1,0]\n",
        "    return result"
      ],
      "metadata": {
        "id": "MVleuOiKRgMf"
      },
      "execution_count": null,
      "outputs": []
    },
    {
      "cell_type": "markdown",
      "source": [
        "##Evaluate model"
      ],
      "metadata": {
        "id": "yztYRqCPR46g"
      }
    },
    {
      "cell_type": "code",
      "source": [
        "def evaluate(cm):\n",
        "    metrics = dict()\n",
        "    for i in range(cm.shape[0]):\n",
        "        metrics[i] = dict()\n",
        "        cmi = onevsallcm(cm,i)\n",
        "        p = cmi[0,0] / (cmi[0,0] + cmi[1,0])\n",
        "        r = cmi[0,0] / (cmi[0,0] + cmi[0,1])\n",
        "        acc = (cmi[0,0]+cmi[1,1]) / np.sum(cmi)\n",
        "        metrics[i]['Precision'] = p\n",
        "        metrics[i]['Recall'] = r\n",
        "        metrics[i]['Accuracy'] = acc\n",
        "        metrics[i]['Confusion Matrix'] = cmi\n",
        "    return metrics"
      ],
      "metadata": {
        "id": "csDpDaUoR4-w"
      },
      "execution_count": null,
      "outputs": []
    },
    {
      "cell_type": "code",
      "source": [
        "evaluation = evaluate(cm)\n",
        "for c, e in evaluation.items():\n",
        "  print(\"class: \", c)\n",
        "  for n, v in e.items():\n",
        "    print(\" \", n, \":\\n    \", v)\n",
        "  print(\"---------------------\")"
      ],
      "metadata": {
        "colab": {
          "base_uri": "https://localhost:8080/"
        },
        "id": "ZNdL2qXLSDEw",
        "outputId": "a0eba62f-0f58-4b4f-8de6-ed82f6d311c4"
      },
      "execution_count": null,
      "outputs": [
        {
          "output_type": "stream",
          "name": "stdout",
          "text": [
            "class:  0\n",
            "  Precision :\n",
            "     0.9545454545454546\n",
            "  Recall :\n",
            "     1.0\n",
            "  Accuracy :\n",
            "     0.9824561403508771\n",
            "  Confusion Matrix :\n",
            "     [[21.  0.]\n",
            " [ 1. 35.]]\n",
            "---------------------\n",
            "class:  1\n",
            "  Precision :\n",
            "     1.0\n",
            "  Recall :\n",
            "     1.0\n",
            "  Accuracy :\n",
            "     1.0\n",
            "  Confusion Matrix :\n",
            "     [[22.  0.]\n",
            " [ 0. 35.]]\n",
            "---------------------\n",
            "class:  2\n",
            "  Precision :\n",
            "     1.0\n",
            "  Recall :\n",
            "     0.9285714285714286\n",
            "  Accuracy :\n",
            "     0.9824561403508771\n",
            "  Confusion Matrix :\n",
            "     [[13.  1.]\n",
            " [ 0. 43.]]\n",
            "---------------------\n"
          ]
        }
      ]
    },
    {
      "cell_type": "markdown",
      "source": [
        "#Naive Bayes using Sklearn"
      ],
      "metadata": {
        "id": "0XDsePxKTJss"
      }
    },
    {
      "cell_type": "markdown",
      "source": [
        "##Train model"
      ],
      "metadata": {
        "id": "wgNMZTzHTZeW"
      }
    },
    {
      "cell_type": "markdown",
      "source": [
        "##Split Data"
      ],
      "metadata": {
        "id": "xumji7bST-Km"
      }
    },
    {
      "cell_type": "code",
      "source": [
        "from sklearn.model_selection import train_test_split\n",
        "X_train, X_test, y_train, y_test = train_test_split(data[features], data['label'])"
      ],
      "metadata": {
        "id": "8becUl2WT-Ad"
      },
      "execution_count": null,
      "outputs": []
    },
    {
      "cell_type": "code",
      "source": [
        "from sklearn.naive_bayes import GaussianNB\n",
        "model = GaussianNB()\n",
        "model = model.fit(X_train, y_train)"
      ],
      "metadata": {
        "id": "a9tx3DWdTR03"
      },
      "execution_count": null,
      "outputs": []
    },
    {
      "cell_type": "markdown",
      "source": [
        "##Predict labels for test set"
      ],
      "metadata": {
        "id": "JF-XG_glTmBW"
      }
    },
    {
      "cell_type": "code",
      "source": [
        "sklearn_pred = model.predict(X_test)"
      ],
      "metadata": {
        "id": "F7gj8fo4TYsX"
      },
      "execution_count": null,
      "outputs": []
    },
    {
      "cell_type": "markdown",
      "source": [
        "##Evaluation"
      ],
      "metadata": {
        "id": "HPR1lhHEUfG3"
      }
    },
    {
      "cell_type": "code",
      "source": [
        "from sklearn.metrics import classification_report\n",
        "cr = classification_report(y_test, sklearn_pred)"
      ],
      "metadata": {
        "id": "7PWzyMerUfMc"
      },
      "execution_count": null,
      "outputs": []
    },
    {
      "cell_type": "code",
      "source": [
        "for line in cr.split('\\n'):\n",
        "  print(line)"
      ],
      "metadata": {
        "colab": {
          "base_uri": "https://localhost:8080/"
        },
        "id": "3lsPqqN5VQmo",
        "outputId": "6a0ebef1-ce33-4cc4-b9b1-1b862aa83d05"
      },
      "execution_count": null,
      "outputs": [
        {
          "output_type": "stream",
          "name": "stdout",
          "text": [
            "              precision    recall  f1-score   support\n",
            "\n",
            "           0       1.00      1.00      1.00        29\n",
            "           1       1.00      0.94      0.97        17\n",
            "           2       0.97      1.00      0.99        39\n",
            "\n",
            "    accuracy                           0.99        85\n",
            "   macro avg       0.99      0.98      0.99        85\n",
            "weighted avg       0.99      0.99      0.99        85\n",
            "\n"
          ]
        }
      ]
    },
    {
      "cell_type": "markdown",
      "source": [
        "##evaluate using my own evaluator"
      ],
      "metadata": {
        "id": "CPiH8tnTk88D"
      }
    },
    {
      "cell_type": "code",
      "source": [
        "evaluation = evaluate(confusion_matrix(y_test.tolist(),sklearn_pred.tolist()))\n",
        "for c, e in evaluation.items():\n",
        "  print(\"class: \", c)\n",
        "  for n, v in e.items():\n",
        "    print(\" \", n, \":\\n    \", v)\n",
        "  print(\"---------------------\")"
      ],
      "metadata": {
        "colab": {
          "base_uri": "https://localhost:8080/"
        },
        "id": "3Io3C2SilAKz",
        "outputId": "246ec9a0-ea0b-4a0e-d251-6062babfd39b"
      },
      "execution_count": null,
      "outputs": [
        {
          "output_type": "stream",
          "name": "stdout",
          "text": [
            "class:  0\n",
            "  Precision :\n",
            "     1.0\n",
            "  Recall :\n",
            "     1.0\n",
            "  Accuracy :\n",
            "     1.0\n",
            "  Confusion Matrix :\n",
            "     [[29.  0.]\n",
            " [ 0. 56.]]\n",
            "---------------------\n",
            "class:  1\n",
            "  Precision :\n",
            "     1.0\n",
            "  Recall :\n",
            "     0.9411764705882353\n",
            "  Accuracy :\n",
            "     0.9882352941176471\n",
            "  Confusion Matrix :\n",
            "     [[16.  1.]\n",
            " [ 0. 68.]]\n",
            "---------------------\n",
            "class:  2\n",
            "  Precision :\n",
            "     0.975\n",
            "  Recall :\n",
            "     1.0\n",
            "  Accuracy :\n",
            "     0.9882352941176471\n",
            "  Confusion Matrix :\n",
            "     [[39.  0.]\n",
            " [ 1. 45.]]\n",
            "---------------------\n"
          ]
        }
      ]
    }
  ]
}